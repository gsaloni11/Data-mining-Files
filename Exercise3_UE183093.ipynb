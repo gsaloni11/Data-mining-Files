{
 "cells": [
  {
   "cell_type": "markdown",
   "metadata": {},
   "source": [
    "Q1: Write a Python program to find the list in a list of lists whose sum of elements is the highest."
   ]
  },
  {
   "cell_type": "code",
   "execution_count": 2,
   "metadata": {},
   "outputs": [
    {
     "name": "stdout",
     "output_type": "stream",
     "text": [
      "[10, 11, 12]\n"
     ]
    }
   ],
   "source": [
    "lis = [[1,2,3],[4,5,6],[10,11,12],[7,8,9]]\n",
    "Max1 = 0\n",
    "for x in lis:\n",
    "    SUM = sum(x,0)\n",
    "    if SUM>Max1:\n",
    "        idx = x\n",
    "        Max1 = SUM\n",
    "        \n",
    "print(idx)"
   ]
  },
  {
   "cell_type": "markdown",
   "metadata": {},
   "source": [
    "Q2: Write a Python program to check whether a list contains a sublist."
   ]
  },
  {
   "cell_type": "code",
   "execution_count": 3,
   "metadata": {},
   "outputs": [
    {
     "name": "stdout",
     "output_type": "stream",
     "text": [
      "List doesnot contain a sublist\n"
     ]
    }
   ],
   "source": [
    "lis = [1,2,3]\n",
    "flag = 0\n",
    "for x in lis:\n",
    "    if(type(x)==list):\n",
    "        flag=1\n",
    "        break\n",
    "        \n",
    "if flag==1:\n",
    "    print(\"List contains a sublist\")\n",
    "else:\n",
    "    print(\"List doesnot contain a sublist\")\n"
   ]
  },
  {
   "cell_type": "code",
   "execution_count": null,
   "metadata": {},
   "outputs": [],
   "source": []
  }
 ],
 "metadata": {
  "kernelspec": {
   "display_name": "Python 3",
   "language": "python",
   "name": "python3"
  },
  "language_info": {
   "codemirror_mode": {
    "name": "ipython",
    "version": 3
   },
   "file_extension": ".py",
   "mimetype": "text/x-python",
   "name": "python",
   "nbconvert_exporter": "python",
   "pygments_lexer": "ipython3",
   "version": "3.8.5"
  }
 },
 "nbformat": 4,
 "nbformat_minor": 4
}
