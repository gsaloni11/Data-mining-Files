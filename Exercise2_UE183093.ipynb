{
 "cells": [
  {
   "cell_type": "markdown",
   "metadata": {},
   "source": [
    "## Exercise 2\n"
   ]
  },
  {
   "cell_type": "code",
   "execution_count": 18,
   "metadata": {},
   "outputs": [
    {
     "name": "stdout",
     "output_type": "stream",
     "text": [
      "Enter a string: Wow!, That's great idea!\n"
     ]
    }
   ],
   "source": [
    "# enter the string\n",
    "str = input(\"Enter a string: \")"
   ]
  },
  {
   "cell_type": "code",
   "execution_count": 19,
   "metadata": {},
   "outputs": [
    {
     "data": {
      "text/plain": [
       "\"Wow!, Ttah's gaert ieda!\""
      ]
     },
     "execution_count": 19,
     "metadata": {},
     "output_type": "execute_result"
    }
   ],
   "source": [
    "import random\n",
    "Ntokens = []      #Ntokens is the list for new jumbled string\n",
    "tokens = str.split()\n",
    "for word in tokens:\n",
    "    #if the length of word is 3 or less the word will not change \n",
    "    if(len(word)<=3):            \n",
    "        Ntokens = Ntokens + [word]\n",
    "    else:\n",
    "        #checking for special char in the start\n",
    "        j=0\n",
    "        while word[j].isalpha()==False:\n",
    "            j=j+1\n",
    "        j = j+1\n",
    "       #checking for special char in the end\n",
    "        k=len(word)-1\n",
    "        while word[k].isalpha()==False:\n",
    "            k=k-1\n",
    "        k=k-1\n",
    "        while j<k:\n",
    "            if (word[j].isalpha()==True) and (word[k].isalpha()==True):\n",
    "                jumble = list(word)\n",
    "                jumble[j],jumble[k] = jumble[k], jumble[j]\n",
    "                word = ''.join(jumble)\n",
    "                j = j+1\n",
    "                k = k-1\n",
    "            else:\n",
    "                if word[j].isalpha()==False:\n",
    "                    j = j+1\n",
    "                else:\n",
    "                    k = k-1\n",
    "        NewWord = ''.join(word)\n",
    "        Ntokens = Ntokens + [NewWord]\n",
    "        \n",
    "res = Ntokens[0]\n",
    "for i in range(1,len(Ntokens)):\n",
    "    res = res + \" \" + Ntokens[i]\n",
    "# res is the new jumbled word string   \n",
    "res"
   ]
  },
  {
   "cell_type": "code",
   "execution_count": null,
   "metadata": {},
   "outputs": [],
   "source": []
  },
  {
   "cell_type": "code",
   "execution_count": null,
   "metadata": {},
   "outputs": [],
   "source": []
  },
  {
   "cell_type": "code",
   "execution_count": null,
   "metadata": {},
   "outputs": [],
   "source": []
  }
 ],
 "metadata": {
  "kernelspec": {
   "display_name": "Python 3",
   "language": "python",
   "name": "python3"
  },
  "language_info": {
   "codemirror_mode": {
    "name": "ipython",
    "version": 3
   },
   "file_extension": ".py",
   "mimetype": "text/x-python",
   "name": "python",
   "nbconvert_exporter": "python",
   "pygments_lexer": "ipython3",
   "version": "3.8.5"
  }
 },
 "nbformat": 4,
 "nbformat_minor": 4
}
