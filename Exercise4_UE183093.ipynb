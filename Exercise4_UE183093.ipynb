{
 "cells": [
  {
   "cell_type": "markdown",
   "metadata": {},
   "source": [
    "#### Q1: \n",
    "You are required to write a program to sort the (name, age, height) tuples by ascending order where name is string, age and height are numbers. The tuples are input by console. The sort criteria is: 1: Sort based on name; 2: Then sort based on age; 3: Then sort by score. The priority is that name > age > score."
   ]
  },
  {
   "cell_type": "code",
   "execution_count": 42,
   "metadata": {},
   "outputs": [
    {
     "name": "stdout",
     "output_type": "stream",
     "text": [
      "Enter the no. of students 5\n",
      "Enter the name Tom\n",
      "Enter the age 19\n",
      "Enter the score 80\n",
      "Enter the name John\n",
      "Enter the age 20\n",
      "Enter the score 90\n",
      "Enter the name Jony\n",
      "Enter the age 17\n",
      "Enter the score 91\n",
      "Enter the name Jony\n",
      "Enter the age 17\n",
      "Enter the score 93\n",
      "Enter the name Json\n",
      "Enter the age 21\n",
      "Enter the score 85\n",
      "\n",
      "Before sorting:\n",
      "[('Tom', 19, 80), ('John', 20, 90), ('Jony', 17, 91), ('Jony', 17, 93), ('Json', 21, 85)] \n",
      "\n",
      "After sorting:\n",
      "[('John', 20, 90), ('Jony', 17, 91), ('Jony', 17, 93), ('Json', 21, 85), ('Tom', 19, 80)]\n"
     ]
    }
   ],
   "source": [
    "final_lis = []\n",
    "num = int(input(\"Enter the no. of students \"))\n",
    "for i in range(num):\n",
    "    lis = []\n",
    "    name = input(\"Enter the name \")\n",
    "    age = int(input(\"Enter the age \"))\n",
    "    score = int(input(\"Enter the score \"))\n",
    "    lis.append(name)\n",
    "    lis.append(age)\n",
    "    lis.append(score)\n",
    "    tup1 = tuple(lis)\n",
    "    final_lis.append(tup1)\n",
    "print(\"\\nBefore sorting:\")   \n",
    "print(final_lis,\"\\n\")\n",
    "print(\"After sorting:\")\n",
    "final_lis.sort(key=lambda x:(x[0],x[1],x[2]))\n",
    "print(final_lis)"
   ]
  },
  {
   "cell_type": "markdown",
   "metadata": {},
   "source": [
    "#### Q2:\n",
    "Calculate Word Frequencies. Take a set of sentences in a string as an input. Count each unique occurrence of a word and calculate frequency of occurrence and store in a dictionary. Produce a frequency table."
   ]
  },
  {
   "cell_type": "code",
   "execution_count": 9,
   "metadata": {},
   "outputs": [
    {
     "name": "stdout",
     "output_type": "stream",
     "text": [
      "Enter the sentences:\n",
      "Hello, I am Saloni Goyal, a student of Panjab University. I am currently pursuing my Bachelors in Computer Science at UIET, Chandigarh.\n",
      "\n",
      "Word Frequencies:\n"
     ]
    },
    {
     "data": {
      "text/plain": [
       "{'Hello,': 1,\n",
       " 'I': 2,\n",
       " 'am': 2,\n",
       " 'Saloni': 1,\n",
       " 'Goyal,': 1,\n",
       " 'a': 1,\n",
       " 'student': 1,\n",
       " 'of': 1,\n",
       " 'Panjab': 1,\n",
       " 'University.': 1,\n",
       " 'currently': 1,\n",
       " 'pursuing': 1,\n",
       " 'my': 1,\n",
       " 'Bachelors': 1,\n",
       " 'in': 1,\n",
       " 'Computer': 1,\n",
       " 'Science': 1,\n",
       " 'at': 1,\n",
       " 'UIET,': 1,\n",
       " 'Chandigarh.': 1}"
      ]
     },
     "execution_count": 9,
     "metadata": {},
     "output_type": "execute_result"
    }
   ],
   "source": [
    "SET = input(\"Enter the sentences:\\n\")\n",
    "Dict = {}\n",
    "for word in SET.split():\n",
    "    if word in Dict:\n",
    "        Dict[word] += 1\n",
    "    else:\n",
    "        Dict[word]=1        \n",
    "print(\"\\nWord Frequencies:\")\n",
    "Dict"
   ]
  },
  {
   "cell_type": "markdown",
   "metadata": {},
   "source": [
    "#### Q3:\n",
    "Find total marks of each students and display full name of student with total marks secured. This is the basic relational database join algorithm between two tables."
   ]
  },
  {
   "cell_type": "code",
   "execution_count": 18,
   "metadata": {},
   "outputs": [
    {
     "data": {
      "text/plain": [
       "{'Aman': 179,\n",
       " 'Diya': 160,\n",
       " 'Farah': 168,\n",
       " 'Gautam': 149,\n",
       " 'Ishika': 185,\n",
       " 'Sarthak': 185,\n",
       " 'Pranay': 117,\n",
       " 'Rajan': 114,\n",
       " 'Avika': 173,\n",
       " 'Siya': 142}"
      ]
     },
     "execution_count": 18,
     "metadata": {},
     "output_type": "execute_result"
    }
   ],
   "source": [
    "Student = {'UE183001':'Aman','UE183002':'Diya','UE183003':'Farah','UE183004':'Gautam','UE183005':'Ishika','UE183006':'Sarthak','UE183007':'Pranay','UE183008':'Rajan','UE183009':'Avika','UE183010':'Siya'}\n",
    "Marks = [('UE183001','CS',94),('UE183002','CS',85),('UE183003','CS',74),('UE183004','CS',64),('UE183005','CS',89),('UE183006','CS',98),('UE183007','CS',45),('UE183008','CS',58),('UE183009','CS',94),('UE183010','CS',74),('UE183001','RV',85),('UE183002','RV',75),('UE183003','RV',94),('UE183004','RV',85),('UE183005','RV',96),('UE183006','RV',87),('UE183007','RV',72),('UE183008','RV',56),('UE183009','RV',79),('UE183010','RV',68)]\n",
    "\n",
    "Dict = {}\n",
    "for key in Student:\n",
    "    total = 0\n",
    "    for x in Marks:\n",
    "        if key == x[0]:\n",
    "            total += x[2]\n",
    "    Dict[Student[key]] = total\n",
    "\n",
    "Dict"
   ]
  },
  {
   "cell_type": "markdown",
   "metadata": {},
   "source": [
    "#### Q4:\n",
    "A date of the form 8-MAR-85 includes the name of the month, which must be translated to a number. Create a dict suitable for decoding month names to numbers. Create a function which uses string operations to split the date into 3 items using the \"-\" character. Translate the month, correct the year to include all of the digits.\n",
    "The function will accept a date in the \"dd-MMM-yy\" format and respond with a tuple of ( y , m , d ).\n"
   ]
  },
  {
   "cell_type": "code",
   "execution_count": 38,
   "metadata": {},
   "outputs": [
    {
     "name": "stdout",
     "output_type": "stream",
     "text": [
      "Enter the date: 08-MAR-03\n",
      "(2003, 3, 8)\n"
     ]
    }
   ],
   "source": [
    "Months = {'JAN':1,'FEB':2,'MAR':3,'APR':4,'MAY':5,'JUN':6,'JUL':7,'AUG':8,'SEP':9,'OCT':10,'NOV':11,'DEC':12}\n",
    "def formatting(Date):\n",
    "    i = 0\n",
    "    for x in Date.split(\"-\"):\n",
    "        if i==0:\n",
    "            d = int(x)\n",
    "            i = i+1\n",
    "        elif i==1:\n",
    "            m = Months[x]\n",
    "            i = i+1\n",
    "        else:\n",
    "            if int(x)<21:\n",
    "                y = int(x)+2000\n",
    "            else:\n",
    "                y = int(x)+1900\n",
    "    \n",
    "    tup = ()\n",
    "    tup = tup[:0] + (y,)\n",
    "    tup = tup[:1] + (m,)\n",
    "    tup = tup[:2] + (d,)\n",
    "    return tup\n",
    "\n",
    "Date = input(\"Enter the date: \")\n",
    "print(formatting(Date)) "
   ]
  },
  {
   "cell_type": "markdown",
   "metadata": {},
   "source": [
    "#### Q5:\n",
    "Dice Odds. There are 36 possible combinations of two dice. A simple pair of loops over range(6)+1 will enumerate all combinations. The sum of the two dice is more interesting than the actual combination. Create a dict of all combinations, using the sum of the two dice as the key. Each value in the dict should be a list of tuples; each tuple has the value of two dice."
   ]
  },
  {
   "cell_type": "code",
   "execution_count": 47,
   "metadata": {},
   "outputs": [
    {
     "name": "stdout",
     "output_type": "stream",
     "text": [
      "Dice Odds:\n",
      "Possible Sum\tNo of Combinations\n",
      "  2 \t\t\t 1\n",
      "  3 \t\t\t 2\n",
      "  4 \t\t\t 3\n",
      "  5 \t\t\t 4\n",
      "  6 \t\t\t 5\n",
      "  7 \t\t\t 6\n",
      "  8 \t\t\t 5\n",
      "  9 \t\t\t 4\n",
      "  10 \t\t\t 3\n",
      "  11 \t\t\t 2\n",
      "  12 \t\t\t 1\n"
     ]
    }
   ],
   "source": [
    "Dict = {}\n",
    "for d1 in range(1,7):\n",
    "    for d2 in range(1,7):\n",
    "        Sum = d1+d2\n",
    "        Ntup = (d1,d2)\n",
    "        if Sum in  Dict:\n",
    "            Dict[Sum].append(Ntup)\n",
    "        else:\n",
    "            Dict[Sum] = [Ntup]\n",
    "print(\"Dice Odds:\")\n",
    "print(\"Possible Sum\\tNo of Combinations\")\n",
    "for key in Dict:\n",
    "    print(\" \",key,\"\\t\\t\\t\", len(Dict[key]))"
   ]
  }
 ],
 "metadata": {
  "kernelspec": {
   "display_name": "Python 3",
   "language": "python",
   "name": "python3"
  },
  "language_info": {
   "codemirror_mode": {
    "name": "ipython",
    "version": 3
   },
   "file_extension": ".py",
   "mimetype": "text/x-python",
   "name": "python",
   "nbconvert_exporter": "python",
   "pygments_lexer": "ipython3",
   "version": "3.8.5"
  }
 },
 "nbformat": 4,
 "nbformat_minor": 4
}
