{
 "cells": [
  {
   "cell_type": "markdown",
   "metadata": {},
   "source": [
    "#### Q1:\n",
    "Create one hot encoding of an array. For example For an array([2, 3, 2, 2, 2, 1]) Output should be\n",
    "   array([[ 0.,  1.,  0.],\n",
    "             [ 0.,  0.,  1.],\n",
    "             [ 0.,  1.,  0.],\n",
    "             [ 0.,  1.,  0.],\n",
    "             [ 0.,  1.,  0.],\n",
    "            [ 1.,  0.,  0.]])"
   ]
  },
  {
   "cell_type": "code",
   "execution_count": 20,
   "metadata": {},
   "outputs": [
    {
     "name": "stdout",
     "output_type": "stream",
     "text": [
      "[2 3 2 2 2 1]\n",
      "\n",
      "One hot encoding:\n",
      "[[0. 1. 0.]\n",
      " [0. 0. 1.]\n",
      " [0. 1. 0.]\n",
      " [0. 1. 0.]\n",
      " [0. 1. 0.]\n",
      " [1. 0. 0.]]\n"
     ]
    }
   ],
   "source": [
    "import numpy as np\n",
    "arr = np.array([2,3,2,2,2,1])\n",
    "res = []\n",
    "for i in arr:\n",
    "    arr1 = np.zeros(3)\n",
    "    arr1[i-1] = 1\n",
    "    res.append(list(arr1))\n",
    "\n",
    "print(arr)\n",
    "print(\"\\nOne hot encoding:\")\n",
    "print(np.array(res))"
   ]
  },
  {
   "cell_type": "markdown",
   "metadata": {},
   "source": [
    "#### Q2:\n",
    "Drop all missing values from an array Input: np.array([1,2,3,np.nan,5,6,7,np.nan]) Desired Output: array([ 1.,2.,3.,5.,6.,7.])"
   ]
  },
  {
   "cell_type": "code",
   "execution_count": 21,
   "metadata": {},
   "outputs": [
    {
     "name": "stdout",
     "output_type": "stream",
     "text": [
      "[ 1.  2.  3. nan  5.  6.  7. nan]\n",
      "\n",
      "After dropping missing values:\n",
      "[1. 2. 3. 5. 6. 7.]\n"
     ]
    }
   ],
   "source": [
    "arr = np.array([1,2,3,np.nan,5,6,7,np.nan])\n",
    "print(arr)\n",
    "arr = arr[~np.isnan(arr)]\n",
    "print(\"\\nAfter dropping missing values:\")\n",
    "print(arr)"
   ]
  },
  {
   "cell_type": "markdown",
   "metadata": {},
   "source": [
    "#### Q3:\n",
    "Find Local maxima from an array. Input: a = np.array([1, 3, 7, 1, 2, 6, 0, 1]) Desired Output: array([2, 5])"
   ]
  },
  {
   "cell_type": "code",
   "execution_count": 22,
   "metadata": {},
   "outputs": [
    {
     "name": "stdout",
     "output_type": "stream",
     "text": [
      "[1 3 7 1 2 6 0 1]\n",
      "\n",
      "Local maxima positions:\n",
      "[2 5]\n"
     ]
    }
   ],
   "source": [
    "arr = np.array([1,3,7,1,2,6,0,1])\n",
    "res = []\n",
    "for i in range(1,len(arr)-1):\n",
    "    if(arr[i-1]<arr[i] and arr[i+1]<arr[i]):\n",
    "        res.append(i)\n",
    "\n",
    "print(arr)\n",
    "print(\"\\nLocal maxima positions:\")\n",
    "print(np.array(res))\n",
    "        "
   ]
  },
  {
   "cell_type": "markdown",
   "metadata": {},
   "source": [
    "#### Q4:\n",
    "From the given 1d array arr, generate a 2d matrix using strides,\n",
    "For example for an array ([ 0,  1,  2,  3,  4,  5,  6,  7,  8,  9, 10, 11, 12, 13, 14])with a window length of w=4 and strides of s=2, like [[0,1,2,3], [2,3,4,5], [4,5,6,7]..]\n",
    "w and s will be provided by user"
   ]
  },
  {
   "cell_type": "code",
   "execution_count": 23,
   "metadata": {},
   "outputs": [
    {
     "name": "stdout",
     "output_type": "stream",
     "text": [
      "Enter the array\n",
      "0,1,2,3,4,5,6,7,8,9,10,11,12,13,14\n",
      "Enter the window length: 4\n",
      "Enter the stride size: 2\n",
      "\n",
      " 2D Matrix:\n",
      "[[ 0  1  2  3]\n",
      " [ 2  3  4  5]\n",
      " [ 4  5  6  7]\n",
      " [ 6  7  8  9]\n",
      " [ 8  9 10 11]\n",
      " [10 11 12 13]]\n"
     ]
    }
   ],
   "source": [
    "def matrix(arr,w,s):\n",
    "    len1 = arr.shape[0]\n",
    "    res = []\n",
    "    for i in range(0, len1-w+1,s):\n",
    "        res.append(arr[i:i+w])\n",
    "    res = np.array(res)\n",
    "    return res\n",
    "\n",
    "print(\"Enter the array\")\n",
    "a = eval(input())\n",
    "arr = np.array(a)\n",
    "w = int(input(\"Enter the window length: \"))\n",
    "s = int(input(\"Enter the stride size: \"))\n",
    "\n",
    "ans = matrix(arr,w,s)\n",
    "# print(type(arr_res))\n",
    "ans = np.mat(ans)\n",
    "print(\"\\n 2D Matrix:\")\n",
    "# print(type(ans))\n",
    "print(ans)"
   ]
  },
  {
   "cell_type": "code",
   "execution_count": null,
   "metadata": {},
   "outputs": [],
   "source": []
  }
 ],
 "metadata": {
  "kernelspec": {
   "display_name": "Python 3",
   "language": "python",
   "name": "python3"
  },
  "language_info": {
   "codemirror_mode": {
    "name": "ipython",
    "version": 3
   },
   "file_extension": ".py",
   "mimetype": "text/x-python",
   "name": "python",
   "nbconvert_exporter": "python",
   "pygments_lexer": "ipython3",
   "version": "3.8.5"
  }
 },
 "nbformat": 4,
 "nbformat_minor": 4
}
