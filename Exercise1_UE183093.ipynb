{
 "cells": [
  {
   "cell_type": "code",
   "execution_count": 1,
   "metadata": {},
   "outputs": [
    {
     "data": {
      "text/plain": [
       "25"
      ]
     },
     "execution_count": 1,
     "metadata": {},
     "output_type": "execute_result"
    }
   ],
   "source": [
    "10+15"
   ]
  },
  {
   "cell_type": "code",
   "execution_count": 3,
   "metadata": {},
   "outputs": [
    {
     "name": "stdout",
     "output_type": "stream",
     "text": [
      "Hello World\n"
     ]
    }
   ],
   "source": [
    "print(\"Hello World\")"
   ]
  },
  {
   "cell_type": "code",
   "execution_count": 4,
   "metadata": {},
   "outputs": [
    {
     "data": {
      "text/plain": [
       "11"
      ]
     },
     "execution_count": 4,
     "metadata": {},
     "output_type": "execute_result"
    }
   ],
   "source": [
    "45 - 34"
   ]
  },
  {
   "cell_type": "code",
   "execution_count": 5,
   "metadata": {},
   "outputs": [
    {
     "data": {
      "text/plain": [
       "16"
      ]
     },
     "execution_count": 5,
     "metadata": {},
     "output_type": "execute_result"
    }
   ],
   "source": [
    "8*2"
   ]
  },
  {
   "cell_type": "code",
   "execution_count": 6,
   "metadata": {},
   "outputs": [
    {
     "name": "stdout",
     "output_type": "stream",
     "text": [
      "Rahul's age is 45\n"
     ]
    }
   ],
   "source": [
    "print(\"Rahul's age is\", 45)"
   ]
  },
  {
   "cell_type": "code",
   "execution_count": 8,
   "metadata": {},
   "outputs": [
    {
     "name": "stdout",
     "output_type": "stream",
     "text": [
      "I have 10 mangoes and 12 banana\n"
     ]
    }
   ],
   "source": [
    "print(\"I have\", 10, \"mangoes and\", 12, \"banana\")"
   ]
  },
  {
   "cell_type": "markdown",
   "metadata": {},
   "source": [
    "Q 7"
   ]
  },
  {
   "cell_type": "code",
   "execution_count": 10,
   "metadata": {},
   "outputs": [
    {
     "name": "stdout",
     "output_type": "stream",
     "text": [
      "Employee Number: 1233\n",
      "Employee Salary and Name: 16745.5 Jerry Squaris\n",
      "Updated Employee Salary: 23450.34\n"
     ]
    }
   ],
   "source": [
    "emp_number = 1233\n",
    "print(\"Employee Number:\", emp_number)\n",
    "emp_salary = 16745.50\n",
    "emp_name = \"Jerry Squaris\"\n",
    "print(\"Employee Salary and Name:\", emp_salary, emp_name)\n",
    "emp_salary = 23450.34\n",
    "print(\"Updated Employee Salary:\", emp_salary)"
   ]
  },
  {
   "cell_type": "markdown",
   "metadata": {},
   "source": [
    "Q 8"
   ]
  },
  {
   "cell_type": "code",
   "execution_count": 11,
   "metadata": {},
   "outputs": [
    {
     "name": "stdout",
     "output_type": "stream",
     "text": [
      "101 John 675.45\n",
      "5.3\n",
      "3.9\n"
     ]
    }
   ],
   "source": [
    "customer_id = 101\n",
    "type(customer_id)\n",
    "customer_name = \"John\"\n",
    "type(customer_name)\n",
    "bill_amount = 675.45\n",
    "type(bill_amount )\n",
    "x = 5.3 + 0.9j\n",
    "type(x)\n",
    "print(customer_id, customer_name, bill_amount)\n",
    "print(x.real)\n",
    "print(x.imag + 3)\n",
    "Flag = True\n",
    "type(Flag)\n",
    "y = \"False\""
   ]
  },
  {
   "cell_type": "markdown",
   "metadata": {},
   "source": [
    "Q 9"
   ]
  },
  {
   "cell_type": "code",
   "execution_count": 22,
   "metadata": {},
   "outputs": [
    {
     "name": "stdout",
     "output_type": "stream",
     "text": [
      "Enter bill id 101\n",
      "Enter customer id 1001\n",
      "Enter customer name Rahul\n",
      "Enter age 45\n",
      "Enter total amount 2000.50\n",
      "\n",
      "\n",
      "Customer Details:\n",
      "bill_id:  101\n",
      "customer_id:  1001\n",
      "customer_name:  Rahul\n",
      "if_minor:  False\n",
      "bill_amount:  2000.5\n"
     ]
    }
   ],
   "source": [
    "bill_id = int(input(\"Enter bill id \"))\n",
    "customer_id = int(input(\"Enter customer id \"))\n",
    "customer_name = input(\"Enter customer name \")\n",
    "Age = int(input(\"Enter age \"))\n",
    "bill_amount = float(input(\"Enter total amount \"))\n",
    "if Age<18:\n",
    "    if_minor = True\n",
    "else:\n",
    "    if_minor = False\n",
    "print()\n",
    "print(\"\\nCustomer Details:\")\n",
    "print(\"bill_id: \",bill_id)\n",
    "print(\"customer_id: \",customer_id)\n",
    "print(\"customer_name: \",customer_name)\n",
    "print(\"if_minor: \",if_minor)\n",
    "print(\"bill_amount: \",bill_amount)"
   ]
  },
  {
   "cell_type": "markdown",
   "metadata": {},
   "source": [
    "Q 10"
   ]
  },
  {
   "cell_type": "code",
   "execution_count": 18,
   "metadata": {},
   "outputs": [
    {
     "name": "stdout",
     "output_type": "stream",
     "text": [
      "Enter number 1 56\n",
      "Enter number 2 8\n",
      "Sum of 2 numbers is 74\n"
     ]
    }
   ],
   "source": [
    "num1 = int(input(\"Enter number 1 \"))\n",
    "num2 = int(input(\"Enter number 2 \"))\n",
    "num1 = num1+4\n",
    "num2 = num2+6\n",
    "sum_n = num1+num2\n",
    "print(\"Sum of 2 numbers is\", sum_n)"
   ]
  },
  {
   "cell_type": "markdown",
   "metadata": {},
   "source": [
    "Q 11"
   ]
  },
  {
   "cell_type": "code",
   "execution_count": 17,
   "metadata": {},
   "outputs": [
    {
     "name": "stdout",
     "output_type": "stream",
     "text": [
      "Old values:  4 5\n",
      "New values:  5 4\n"
     ]
    }
   ],
   "source": [
    "a = 4\n",
    "b = 5\n",
    "print(\"Old values: \",a,b)\n",
    "a,b = b,a\n",
    "print(\"New values: \",a,b)"
   ]
  },
  {
   "cell_type": "markdown",
   "metadata": {},
   "source": [
    "Q 12"
   ]
  },
  {
   "cell_type": "code",
   "execution_count": 23,
   "metadata": {},
   "outputs": [
    {
     "name": "stdout",
     "output_type": "stream",
     "text": [
      "Average is: 83.33333333333333\n",
      "Updated Average: 80.33333333333333\n"
     ]
    }
   ],
   "source": [
    "Sub1 = 85\n",
    "Sub2 = 91\n",
    "Sub3 = 74\n",
    "avg = (Sub1+Sub2+Sub3)/3\n",
    "print(\"Average is:\",avg)\n",
    "Sub3 = 65\n",
    "avg = (Sub1+Sub2+Sub3)/3\n",
    "print(\"Updated Average:\",avg)"
   ]
  },
  {
   "cell_type": "markdown",
   "metadata": {},
   "source": [
    "Q 13"
   ]
  },
  {
   "cell_type": "code",
   "execution_count": 31,
   "metadata": {},
   "outputs": [
    {
     "name": "stdout",
     "output_type": "stream",
     "text": [
      "Enter radius 4.2\n",
      "Area is 55.3896 and Perimeter is 26.376\n"
     ]
    }
   ],
   "source": [
    "pi = 3.14\n",
    "radius = float(input(\"Enter radius \"))\n",
    "area = pi*radius**2\n",
    "perimeter = 2*pi*radius\n",
    "print(\"Area is\", area, \"and Perimeter is\", perimeter)"
   ]
  },
  {
   "cell_type": "markdown",
   "metadata": {},
   "source": [
    "Q 14"
   ]
  },
  {
   "cell_type": "code",
   "execution_count": 30,
   "metadata": {},
   "outputs": [
    {
     "name": "stdout",
     "output_type": "stream",
     "text": [
      "Monthly pay is 64000\n"
     ]
    }
   ],
   "source": [
    "Hrs_per_Week = 40\n",
    "PayRate = 400\n",
    "Week_per_month = 4\n",
    "Monthly_pay = Hrs_per_Week * PayRate * Week_per_month\n",
    "print(\"Monthly pay is\", Monthly_pay)"
   ]
  },
  {
   "cell_type": "markdown",
   "metadata": {},
   "source": [
    "Q 15a"
   ]
  },
  {
   "cell_type": "code",
   "execution_count": 35,
   "metadata": {},
   "outputs": [
    {
     "name": "stdout",
     "output_type": "stream",
     "text": [
      "50 52 54 56 58 60 62 64 66 68 70 72 74 76 78 80 "
     ]
    }
   ],
   "source": [
    "for i in range(50,81):\n",
    "    if(i%2==0):\n",
    "        print(i, end=\" \")"
   ]
  },
  {
   "cell_type": "markdown",
   "metadata": {},
   "source": [
    "Q 15b"
   ]
  },
  {
   "cell_type": "code",
   "execution_count": 17,
   "metadata": {},
   "outputs": [
    {
     "name": "stdout",
     "output_type": "stream",
     "text": [
      "Enter num: 8\n",
      "Sum of natural numbers upto 8 is 36\n"
     ]
    }
   ],
   "source": [
    "num = int(input(\"Enter num: \"))\n",
    "if(num <= 0):\n",
    "    print(\"Enter valid num\")\n",
    "else:\n",
    "    sum = 0\n",
    "    i=0\n",
    "    while(i<=num):\n",
    "        sum = sum + i\n",
    "        i = i+1\n",
    "    print(\"Sum of natural numbers upto\", num,\"is\", sum)"
   ]
  },
  {
   "cell_type": "markdown",
   "metadata": {},
   "source": [
    "Q 15c"
   ]
  },
  {
   "cell_type": "code",
   "execution_count": 16,
   "metadata": {},
   "outputs": [
    {
     "name": "stdout",
     "output_type": "stream",
     "text": [
      "Enter a number 8\n",
      "Not a prime num\n"
     ]
    }
   ],
   "source": [
    "num = int(input(\"Enter a number \"))\n",
    "if num>1:\n",
    "    for i in range(2,num):\n",
    "        if((num%i) == 0):\n",
    "            print(\"Not a prime number\")\n",
    "            break\n",
    "        else:\n",
    "            print(\"Prime number\")\n",
    "            break\n",
    "else:\n",
    "    print(\"Not a prime number\")"
   ]
  },
  {
   "cell_type": "markdown",
   "metadata": {},
   "source": [
    "Q 15d"
   ]
  },
  {
   "cell_type": "code",
   "execution_count": 12,
   "metadata": {},
   "outputs": [
    {
     "name": "stdout",
     "output_type": "stream",
     "text": [
      "Enter a number 8\n",
      "Fibonacci series upto 8 is\n",
      "0 1 1 2 3 5 8 13 "
     ]
    }
   ],
   "source": [
    "num = int(input(\"Enter a number \"))\n",
    "num1 , num2 = 0,1\n",
    "count = 0 \n",
    "if num <= 0:\n",
    "    print(\"Invalid number\")\n",
    "elif num == 1:\n",
    "    print(\"Fibonacci series upto\", num, \"is\",num1)\n",
    "else:\n",
    "    print(\"Fibonacci series upto\", num, \"is\")\n",
    "    while count<num:\n",
    "        print(num1, end=\" \")\n",
    "        temp = num1+num2\n",
    "        num1 = num2\n",
    "        num2 = temp\n",
    "        count = count+1"
   ]
  }
 ],
 "metadata": {
  "kernelspec": {
   "display_name": "Python 3",
   "language": "python",
   "name": "python3"
  },
  "language_info": {
   "codemirror_mode": {
    "name": "ipython",
    "version": 3
   },
   "file_extension": ".py",
   "mimetype": "text/x-python",
   "name": "python",
   "nbconvert_exporter": "python",
   "pygments_lexer": "ipython3",
   "version": "3.8.5"
  }
 },
 "nbformat": 4,
 "nbformat_minor": 4
}
