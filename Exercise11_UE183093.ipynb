{
 "cells": [
  {
   "cell_type": "code",
   "execution_count": 18,
   "metadata": {},
   "outputs": [],
   "source": [
    "import random\n",
    "import numpy as np\n",
    "import pandas as pd\n",
    "import matplotlib.pyplot as plt\n",
    "from sklearn import datasets\n",
    "from sklearn.model_selection import train_test_split\n",
    "from sklearn import metrics\n",
    "from sklearn.neural_network import MLPClassifier\n",
    "from sklearn.neighbors import KNeighborsClassifier\n",
    "from sklearn.svm import SVC\n",
    "from sklearn.gaussian_process import GaussianProcessClassifier\n",
    "from sklearn.gaussian_process.kernels import RBF\n",
    "from sklearn.tree import DecisionTreeClassifier\n",
    "from sklearn.ensemble import RandomForestClassifier, AdaBoostClassifier\n",
    "from sklearn.naive_bayes import GaussianNB\n",
    "from sklearn.discriminant_analysis import QuadraticDiscriminantAnalysis"
   ]
  },
  {
   "cell_type": "code",
   "execution_count": 9,
   "metadata": {},
   "outputs": [],
   "source": [
    "boston = datasets.load_boston()\n",
    "y = boston.target"
   ]
  },
  {
   "cell_type": "code",
   "execution_count": 10,
   "metadata": {},
   "outputs": [],
   "source": [
    "x = boston.data\n",
    "\n",
    "new_x = x+x+x\n",
    "new_x\n",
    "\n",
    "y = boston.target\n",
    "y = np.array(np.floor(y),'int64')\n",
    "\n",
    "new_y = np.repeat(y, 2)"
   ]
  },
  {
   "cell_type": "code",
   "execution_count": 11,
   "metadata": {},
   "outputs": [
    {
     "data": {
      "text/plain": [
       "Counter({24: 50,\n",
       "         21: 62,\n",
       "         34: 10,\n",
       "         33: 18,\n",
       "         36: 12,\n",
       "         28: 20,\n",
       "         22: 70,\n",
       "         27: 18,\n",
       "         16: 32,\n",
       "         18: 50,\n",
       "         15: 32,\n",
       "         20: 72,\n",
       "         19: 74,\n",
       "         23: 74,\n",
       "         17: 44,\n",
       "         13: 48,\n",
       "         14: 36,\n",
       "         12: 18,\n",
       "         30: 14,\n",
       "         26: 16,\n",
       "         25: 22,\n",
       "         35: 8,\n",
       "         31: 16,\n",
       "         38: 2,\n",
       "         43: 6,\n",
       "         11: 18,\n",
       "         41: 4,\n",
       "         50: 32,\n",
       "         29: 20,\n",
       "         37: 10,\n",
       "         39: 2,\n",
       "         32: 14,\n",
       "         42: 4,\n",
       "         48: 6,\n",
       "         44: 4,\n",
       "         46: 4,\n",
       "         45: 2,\n",
       "         10: 20,\n",
       "         8: 20,\n",
       "         7: 14,\n",
       "         9: 6,\n",
       "         5: 6,\n",
       "         6: 2})"
      ]
     },
     "execution_count": 11,
     "metadata": {},
     "output_type": "execute_result"
    }
   ],
   "source": [
    "y = np.array(np.floor(y),'int64')\n",
    "from collections import Counter\n",
    "\n",
    "cnter= Counter(new_y)\n",
    "cnter"
   ]
  },
  {
   "cell_type": "code",
   "execution_count": 12,
   "metadata": {},
   "outputs": [],
   "source": [
    "names = [\"Nearest Neighbors\", \"Linear SVM\", \"RBF SVM\", \"Gaussian Process\",\n",
    "         \"Decision Tree\", \"Random Forest\", \"Neural Net\", \"AdaBoost\",\n",
    "         \"Naive Bayes\", \"QDA\"]\n",
    "\n",
    "classifiers = [\n",
    "    KNeighborsClassifier(3),\n",
    "    SVC(kernel=\"linear\", C=0.025),\n",
    "    SVC(gamma=2, C=1),\n",
    "    GaussianProcessClassifier(1.0 * RBF(1.0)),\n",
    "    DecisionTreeClassifier(max_depth=5),\n",
    "    RandomForestClassifier(max_depth=5, n_estimators=10, max_features=1),\n",
    "    MLPClassifier(alpha=1),\n",
    "    AdaBoostClassifier(),\n",
    "    GaussianNB(),\n",
    "    QuadraticDiscriminantAnalysis()]\n",
    "\n",
    "iris_results = {}\n",
    "digits_results = {}\n",
    "boston_results = {}"
   ]
  },
  {
   "cell_type": "code",
   "execution_count": 17,
   "metadata": {},
   "outputs": [
    {
     "ename": "AttributeError",
     "evalue": "'list' object has no attribute 'load_iris'",
     "output_type": "error",
     "traceback": [
      "\u001b[1;31m---------------------------------------------------------------------------\u001b[0m",
      "\u001b[1;31mAttributeError\u001b[0m                            Traceback (most recent call last)",
      "\u001b[1;32m<ipython-input-17-4b15f80146c8>\u001b[0m in \u001b[0;36m<module>\u001b[1;34m\u001b[0m\n\u001b[0;32m      1\u001b[0m \u001b[1;32mfrom\u001b[0m \u001b[0msklearn\u001b[0m\u001b[1;33m.\u001b[0m\u001b[0mimpute\u001b[0m \u001b[1;32mimport\u001b[0m \u001b[0mSimpleImputer\u001b[0m \u001b[1;32mas\u001b[0m \u001b[0mImputer\u001b[0m\u001b[1;33m\u001b[0m\u001b[1;33m\u001b[0m\u001b[0m\n\u001b[1;32m----> 2\u001b[1;33m \u001b[0miris\u001b[0m \u001b[1;33m=\u001b[0m \u001b[0mdatasets\u001b[0m\u001b[1;33m.\u001b[0m\u001b[0mload_iris\u001b[0m\u001b[1;33m(\u001b[0m\u001b[1;33m)\u001b[0m\u001b[1;33m\u001b[0m\u001b[1;33m\u001b[0m\u001b[0m\n\u001b[0m\u001b[0;32m      3\u001b[0m \u001b[0mdigits\u001b[0m \u001b[1;33m=\u001b[0m \u001b[0mdatasets\u001b[0m\u001b[1;33m.\u001b[0m\u001b[0mload_digits\u001b[0m\u001b[1;33m(\u001b[0m\u001b[1;33m)\u001b[0m\u001b[1;33m\u001b[0m\u001b[1;33m\u001b[0m\u001b[0m\n\u001b[0;32m      4\u001b[0m \u001b[0mboston\u001b[0m \u001b[1;33m=\u001b[0m \u001b[0mdatasets\u001b[0m\u001b[1;33m.\u001b[0m\u001b[0mload_boston\u001b[0m\u001b[1;33m(\u001b[0m\u001b[1;33m)\u001b[0m\u001b[1;33m\u001b[0m\u001b[1;33m\u001b[0m\u001b[0m\n\u001b[0;32m      5\u001b[0m \u001b[0mdatasets\u001b[0m \u001b[1;33m=\u001b[0m \u001b[1;33m[\u001b[0m\u001b[0miris\u001b[0m\u001b[1;33m,\u001b[0m \u001b[0mdigits\u001b[0m\u001b[1;33m,\u001b[0m \u001b[0mboston\u001b[0m\u001b[1;33m]\u001b[0m\u001b[1;33m\u001b[0m\u001b[1;33m\u001b[0m\u001b[0m\n",
      "\u001b[1;31mAttributeError\u001b[0m: 'list' object has no attribute 'load_iris'"
     ]
    }
   ],
   "source": [
    "from sklearn.impute import SimpleImputer as Imputer\n",
    "iris = datasets.load_iris()\n",
    "digits = datasets.load_digits()\n",
    "boston = datasets.load_boston()\n",
    "datasets = [iris, digits, boston]\n",
    "ds_names = ['iris', 'digits', 'boston']\n",
    "\n",
    "for ds_name, ds in zip(ds_names, datasets):\n",
    "    X, y = ds.data, ds.target\n",
    "    y = np.array(np.floor(y),'int64')\n",
    "    if(ds_name == 'boston'):\n",
    "      X = np.repeat(X, 3,axis=0)\n",
    "      y=np.repeat(y, 3)\n",
    "    \n",
    "    X_train, X_test, y_train, y_test = \\\n",
    "        train_test_split(X, y, test_size=.3, random_state=42)\n",
    "\n",
    "    \n",
    "    for name, clf in zip(names, classifiers):\n",
    "      score=0\n",
    "      clf.fit(X_train, y_train)\n",
    "      score = clf.score(X_test, y_test)\n",
    "      if ds_name=='iris':\n",
    "            iris_results[name]=score\n",
    "      elif ds_name=='digits':\n",
    "        digits_results[name]=score\n",
    "      else:\n",
    "        boston_results[name]=score\n"
   ]
  },
  {
   "cell_type": "code",
   "execution_count": 15,
   "metadata": {},
   "outputs": [
    {
     "data": {
      "image/png": "[encoded data removed]",
      "text/plain": [
       "<Figure size 432x288 with 1 Axes>"
      ]
     },
     "metadata": {
      "needs_background": "light"
     },
     "output_type": "display_data"
    }
   ],
   "source": [
    "acc = []\n",
    "for key in names:\n",
    "    acc.append(iris_results[key])\n",
    "x = range(len(acc))\n",
    "\n",
    "plt.plot(x, acc)\n",
    "plt.title(\"Iris result\")\n",
    "plt.xticks(x, names, rotation=90)\n",
    "plt.ylabel('Accuracy')\n",
    "plt.show()"
   ]
  },
  {
   "cell_type": "code",
   "execution_count": null,
   "metadata": {},
   "outputs": [],
   "source": [
    "acc = []\n",
    "for key in names:\n",
    "    acc.append(digits_results[key])\n",
    "x = range(len(acc))\n",
    "\n",
    "plt.plot(x, acc)\n",
    "plt.title(\"Digits result\")\n",
    "plt.xticks(x, names, rotation=90)\n",
    "plt.ylabel('Accuracy')\n",
    "plt.show()\n"
   ]
  },
  {
   "cell_type": "code",
   "execution_count": null,
   "metadata": {},
   "outputs": [],
   "source": [
    "acc = []\n",
    "for key in names:\n",
    "    acc.append(boston_results[key])\n",
    "x = range(len(acc))\n",
    "\n",
    "plt.plot(x, acc)\n",
    "plt.title(\"boston result\")\n",
    "plt.xticks(x, names, rotation=90)\n",
    "plt.ylabel('Accuracy')\n",
    "plt.show()"
   ]
  },
  {
   "cell_type": "code",
   "execution_count": null,
   "metadata": {},
   "outputs": [],
   "source": []
  }
 ],
 "metadata": {
  "kernelspec": {
   "display_name": "Python 3",
   "language": "python",
   "name": "python3"
  },
  "language_info": {
   "codemirror_mode": {
    "name": "ipython",
    "version": 3
   },
   "file_extension": ".py",
   "mimetype": "text/x-python",
   "name": "python",
   "nbconvert_exporter": "python",
   "pygments_lexer": "ipython3",
   "version": "3.8.5"
  }
 },
 "nbformat": 4,
 "nbformat_minor": 4
}
