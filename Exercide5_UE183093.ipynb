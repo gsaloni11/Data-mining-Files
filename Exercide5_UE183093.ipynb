{
 "cells": [
  {
   "cell_type": "markdown",
   "metadata": {},
   "source": [
    "#### Q1:\n",
    "Create a function to check whether numpy array has Zero values or not."
   ]
  },
  {
   "cell_type": "code",
   "execution_count": 92,
   "metadata": {},
   "outputs": [
    {
     "name": "stdout",
     "output_type": "stream",
     "text": [
      "Enter the array\n",
      "1,2,3,4,5,0\n",
      "Array has zero values:\n"
     ]
    }
   ],
   "source": [
    "import numpy as np\n",
    "def Zeros(array):\n",
    "    if (array==0).any():\n",
    "        print(\"Array has zero values:\")\n",
    "    else:\n",
    "        print(\"Array doesnot have zero value\")\n",
    "\n",
    "print(\"Enter the array\")\n",
    "a = eval(input())\n",
    "arr = np.array(a)\n",
    "Zeros(arr)"
   ]
  },
  {
   "cell_type": "markdown",
   "metadata": {},
   "source": [
    "#### Q2:\n",
    "Consider an array contains marks of students. Find the median and mean of students who got passing marks."
   ]
  },
  {
   "cell_type": "code",
   "execution_count": 41,
   "metadata": {
    "scrolled": true
   },
   "outputs": [
    {
     "name": "stdout",
     "output_type": "stream",
     "text": [
      "Enter the list of student marks:\n",
      "[12,45,67,56,32,11,30,48]\n",
      "Mean:  54.0\n",
      "Median:  52.0\n"
     ]
    }
   ],
   "source": [
    "print(\"Enter the list of student marks:\")\n",
    "# Supposing passing marks is 33\n",
    "a = eval(input())\n",
    "arr = np.array(a)\n",
    "Mean = np.mean(arr[arr[:]>=33])\n",
    "Median = np.median(arr[arr[:]>=33])\n",
    "print(\"Mean: \",Mean)\n",
    "print(\"Median: \",Median)"
   ]
  },
  {
   "cell_type": "markdown",
   "metadata": {},
   "source": [
    "#### Q3:\n",
    "Consider an array containing date of birth of students (Use np.datetime64('2018-02-01')). Find the age of all students. If age is 18 label it First, if it is 19, label it Second, if it is 20, label it Third, if it is 21, label it Fourth."
   ]
  },
  {
   "cell_type": "code",
   "execution_count": 82,
   "metadata": {},
   "outputs": [
    {
     "data": {
      "text/plain": [
       "['Fourth', 'Second', 'Fourth', 'Third', 'First']"
      ]
     },
     "execution_count": 82,
     "metadata": {},
     "output_type": "execute_result"
    }
   ],
   "source": [
    "import numpy as np\n",
    "ageLabel = []\n",
    "dates = np.array(['1999-09-08','2002-09-07','2000-06-17','2001-05-23','2003-09-16'],dtype='datetime64')\n",
    "today = np.datetime64('today','Y')\n",
    "for x in dates:\n",
    "    age = today - np.datetime64(x,'Y')\n",
    "    if age == np.timedelta64(18,'Y'):\n",
    "        ageLabel.append('First')\n",
    "    elif age == np.timedelta64(19,'Y'):\n",
    "        ageLabel.append('Second')\n",
    "    elif age == np.timedelta64(20,'Y'):\n",
    "        ageLabel.append('Third')\n",
    "    else:\n",
    "        ageLabel.append('Fourth')\n",
    "        \n",
    "ageLabel"
   ]
  },
  {
   "cell_type": "markdown",
   "metadata": {},
   "source": [
    "#### Q4:\n",
    "Create a function to sort 2d Array by a column."
   ]
  },
  {
   "cell_type": "code",
   "execution_count": 36,
   "metadata": {},
   "outputs": [
    {
     "name": "stdout",
     "output_type": "stream",
     "text": [
      "Enter the 2d array:\n",
      "[[1,4,6,12],[3,2,15,6],[5,9,8,7]]\n",
      "Enter the column index: 2\n",
      "\n",
      "Before Sorting: \n",
      "[[ 1  4  6 12]\n",
      " [ 3  2 15  6]\n",
      " [ 5  9  8  7]]\n",
      "\n",
      "\n",
      "After sorting: \n",
      "[[ 1  4  6 12]\n",
      " [ 5  9  8  7]\n",
      " [ 3  2 15  6]]\n"
     ]
    }
   ],
   "source": [
    "import numpy as np\n",
    "def Sort2D(arr,col):\n",
    "    sortedArray = arr[arr[:,col].argsort()]\n",
    "    print(\"After sorting: \")\n",
    "    print(sortedArray)\n",
    "    \n",
    "    \n",
    "print(\"Enter the 2d array:\")\n",
    "a = eval(input())\n",
    "arr = np.array(a)\n",
    "colI = int(input(\"Enter the column index: \"))\n",
    "print(\"\\nBefore Sorting: \")\n",
    "print(arr)\n",
    "print(\"\\n\")\n",
    "\n",
    "Sort2D(arr,colI)"
   ]
  }
 ],
 "metadata": {
  "kernelspec": {
   "display_name": "Python 3",
   "language": "python",
   "name": "python3"
  },
  "language_info": {
   "codemirror_mode": {
    "name": "ipython",
    "version": 3
   },
   "file_extension": ".py",
   "mimetype": "text/x-python",
   "name": "python",
   "nbconvert_exporter": "python",
   "pygments_lexer": "ipython3",
   "version": "3.8.5"
  }
 },
 "nbformat": 4,
 "nbformat_minor": 4
}
